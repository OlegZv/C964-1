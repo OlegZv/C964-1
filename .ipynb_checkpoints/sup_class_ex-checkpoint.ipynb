{
 "cells": [
  {
   "cell_type": "markdown",
   "id": "23cca81f",
   "metadata": {},
   "source": [
    "# Example: Supervised Classification App\n",
    "\n",
    "Supervised classification fits the project requirments well, and is also a good place to start. The nature of your Data and organizational need dictate which methods you can use. So what type of data do we need? \n",
    "[](TODO ADD LINK)\n",
    "\n",
    "- One of those features is the category you want to predict (the dependent variable).\n",
    "- At least one other features (the independent variable(s)).\n",
    "\n",
    "\n",
    "This will be a very simple example. Simple data. Simple model. Simple interface. However, it does demonstartes the minimum requirements for [part C](task2c). We'll also demonstrate how things can progressively be improved in a [part 2], always building on working code. Simple is a great place to start -scaling up is typically easier than going the other direction.\n",
    "\n",
    "<p float=\"center\">\n",
    "  <img src=\"./url_images/iris_dim.png\" height=\"250\" />\n",
    "  <img src=\"./url_images/plot_iris_svc.png\" height=\"250\" /> \n",
    "</p>\n",
    "\n",
    "Let's look at the famous [Fisher's Iris data set](https://en.wikipedia.org/wiki/Iris_flower_data_set): "
   ]
  },
  {
   "cell_type": "code",
   "execution_count": 1,
   "id": "b053efd1",
   "metadata": {},
   "outputs": [
    {
     "data": {
      "text/html": [
       "<style type=\"text/css\">\n",
       "#T_28759_row0_col4, #T_28759_row1_col4, #T_28759_row2_col4, #T_28759_row3_col4, #T_28759_row4_col4, #T_28759_row5_col4 {\n",
       "  background-color: yellow;\n",
       "}\n",
       "</style>\n",
       "<table id=\"T_28759\">\n",
       "  <thead>\n",
       "    <tr>\n",
       "      <th class=\"blank level0\" >&nbsp;</th>\n",
       "      <th id=\"T_28759_level0_col0\" class=\"col_heading level0 col0\" >sepal-length</th>\n",
       "      <th id=\"T_28759_level0_col1\" class=\"col_heading level0 col1\" >sepal-width</th>\n",
       "      <th id=\"T_28759_level0_col2\" class=\"col_heading level0 col2\" >petal-length</th>\n",
       "      <th id=\"T_28759_level0_col3\" class=\"col_heading level0 col3\" >petal-width</th>\n",
       "      <th id=\"T_28759_level0_col4\" class=\"col_heading level0 col4\" >type</th>\n",
       "    </tr>\n",
       "  </thead>\n",
       "  <tbody>\n",
       "    <tr>\n",
       "      <th id=\"T_28759_level0_row0\" class=\"row_heading level0 row0\" >138</th>\n",
       "      <td id=\"T_28759_row0_col0\" class=\"data row0 col0\" >6.000000</td>\n",
       "      <td id=\"T_28759_row0_col1\" class=\"data row0 col1\" >3.000000</td>\n",
       "      <td id=\"T_28759_row0_col2\" class=\"data row0 col2\" >4.800000</td>\n",
       "      <td id=\"T_28759_row0_col3\" class=\"data row0 col3\" >1.800000</td>\n",
       "      <td id=\"T_28759_row0_col4\" class=\"data row0 col4\" >Iris-virginica</td>\n",
       "    </tr>\n",
       "    <tr>\n",
       "      <th id=\"T_28759_level0_row1\" class=\"row_heading level0 row1\" >133</th>\n",
       "      <td id=\"T_28759_row1_col0\" class=\"data row1 col0\" >6.300000</td>\n",
       "      <td id=\"T_28759_row1_col1\" class=\"data row1 col1\" >2.800000</td>\n",
       "      <td id=\"T_28759_row1_col2\" class=\"data row1 col2\" >5.100000</td>\n",
       "      <td id=\"T_28759_row1_col3\" class=\"data row1 col3\" >1.500000</td>\n",
       "      <td id=\"T_28759_row1_col4\" class=\"data row1 col4\" >Iris-virginica</td>\n",
       "    </tr>\n",
       "    <tr>\n",
       "      <th id=\"T_28759_level0_row2\" class=\"row_heading level0 row2\" >93</th>\n",
       "      <td id=\"T_28759_row2_col0\" class=\"data row2 col0\" >5.000000</td>\n",
       "      <td id=\"T_28759_row2_col1\" class=\"data row2 col1\" >2.300000</td>\n",
       "      <td id=\"T_28759_row2_col2\" class=\"data row2 col2\" >3.300000</td>\n",
       "      <td id=\"T_28759_row2_col3\" class=\"data row2 col3\" >1.000000</td>\n",
       "      <td id=\"T_28759_row2_col4\" class=\"data row2 col4\" >Iris-versicolor</td>\n",
       "    </tr>\n",
       "    <tr>\n",
       "      <th id=\"T_28759_level0_row3\" class=\"row_heading level0 row3\" >48</th>\n",
       "      <td id=\"T_28759_row3_col0\" class=\"data row3 col0\" >5.300000</td>\n",
       "      <td id=\"T_28759_row3_col1\" class=\"data row3 col1\" >3.700000</td>\n",
       "      <td id=\"T_28759_row3_col2\" class=\"data row3 col2\" >1.500000</td>\n",
       "      <td id=\"T_28759_row3_col3\" class=\"data row3 col3\" >0.200000</td>\n",
       "      <td id=\"T_28759_row3_col4\" class=\"data row3 col4\" >Iris-setosa</td>\n",
       "    </tr>\n",
       "    <tr>\n",
       "      <th id=\"T_28759_level0_row4\" class=\"row_heading level0 row4\" >136</th>\n",
       "      <td id=\"T_28759_row4_col0\" class=\"data row4 col0\" >6.300000</td>\n",
       "      <td id=\"T_28759_row4_col1\" class=\"data row4 col1\" >3.400000</td>\n",
       "      <td id=\"T_28759_row4_col2\" class=\"data row4 col2\" >5.600000</td>\n",
       "      <td id=\"T_28759_row4_col3\" class=\"data row4 col3\" >2.400000</td>\n",
       "      <td id=\"T_28759_row4_col4\" class=\"data row4 col4\" >Iris-virginica</td>\n",
       "    </tr>\n",
       "    <tr>\n",
       "      <th id=\"T_28759_level0_row5\" class=\"row_heading level0 row5\" >128</th>\n",
       "      <td id=\"T_28759_row5_col0\" class=\"data row5 col0\" >6.400000</td>\n",
       "      <td id=\"T_28759_row5_col1\" class=\"data row5 col1\" >2.800000</td>\n",
       "      <td id=\"T_28759_row5_col2\" class=\"data row5 col2\" >5.600000</td>\n",
       "      <td id=\"T_28759_row5_col3\" class=\"data row5 col3\" >2.100000</td>\n",
       "      <td id=\"T_28759_row5_col4\" class=\"data row5 col4\" >Iris-virginica</td>\n",
       "    </tr>\n",
       "  </tbody>\n",
       "</table>\n"
      ],
      "text/plain": [
       "<pandas.io.formats.style.Styler at 0x1ec47e6ff10>"
      ]
     },
     "execution_count": 1,
     "metadata": {},
     "output_type": "execute_result"
    }
   ],
   "source": [
    "#We'll import libraires as needed, but when submitting, \n",
    "# it's best having them all at the top.\n",
    "import pandas as pd\n",
    "\n",
    "# Load this well worn dataset:\n",
    "url = \"https://raw.githubusercontent.com/jbrownlee/Datasets/master/iris.csv\"\n",
    "df = pd.read_csv(url) #read CSV into Python as a DataFrame\n",
    "df # displays the DataFrame\n",
    "\n",
    "column_names = ['sepal-length', 'sepal-width', 'petal-length', 'petal-width', 'type']\n",
    "df = pd.read_csv(url, names = column_names) #read CSV into Python as a DataFrame\n",
    "df2 = df.sample(6)\n",
    "df2.style.set_properties(subset=['type'], **{'background-color': 'yellow'})\n"
   ]
  },
  {
   "cell_type": "markdown",
   "id": "96de1903-332e-49f8-b7e7-96b50fc940ee",
   "metadata": {
    "tags": []
   },
   "source": [
    "The highlighted column, 'type,' provides something to predict/classify (dependent variables), and the non-highlighted columns are something by which to make that prediction/classification (independent variables).\n",
    "\n",
    "This will be a simple example. Simple data. Simple model. Simple interface. However, it does demonstrate the minimum requirements for [part C](task2c). We'll also show how things can progressively be improved in a [part 2], building on working code. Simple is a great place to start -scaling up is typically easier than going in the other direction. Though I keep saying \"simple,\" we'll also see that this dataset is quite *rich* with angles to investigate. "
   ]
  },
  {
   "cell_type": "code",
   "execution_count": null,
   "id": "9edff8f0-c39e-41f0-ba20-738072a29da3",
   "metadata": {},
   "outputs": [],
   "source": []
  }
 ],
 "metadata": {
  "kernelspec": {
   "display_name": "jupyter-books-WZpnkDri",
   "language": "python",
   "name": "jupyter-books-wzpnkdri"
  },
  "language_info": {
   "codemirror_mode": {
    "name": "ipython",
    "version": 3
   },
   "file_extension": ".py",
   "mimetype": "text/x-python",
   "name": "python",
   "nbconvert_exporter": "python",
   "pygments_lexer": "ipython3",
   "version": "3.11.1"
  },
  "vscode": {
   "interpreter": {
    "hash": "7df8f88cce56d253ebea77c59853d1b5489fce4a7e910211f5b304e9f7d2eec2"
   }
  }
 },
 "nbformat": 4,
 "nbformat_minor": 5
}
