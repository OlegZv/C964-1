{
 "cells": [
  {
   "attachments": {},
   "cell_type": "markdown",
   "metadata": {},
   "source": [
    "(sup_reg_ex:develop)=\n",
    "## Data product Model Development\n",
    "\n",
    "Supervised algorithms use inputs (independent variables) and labeled outputs (dependent variable -the \"answers\") to create a model that can measure its performance and learn over time. Splitting the data into independent and dependent variables, we have the following (again, this will be very similar to the [previous example](sup_class_ex:develop)):"
   ]
  },
  {
   "cell_type": "code",
   "execution_count": 1,
   "metadata": {},
   "outputs": [],
   "source": [
    "#Note: we only repeat this step from before, because this is a new .ipyb page.\n",
    "#   it only needs to be executed once per file.\n",
    "\n",
    "#We'll import libraries as needed, but when submitting, having them all at the top is best practice\n",
    "import pandas as pd\n",
    "\n",
    "# Reloading the dataset\n",
    "url = \"https://raw.githubusercontent.com/jbrownlee/Datasets/master/iris.csv\"\n",
    "df = pd.read_csv(url) #read CSV into Python as a dataframe\n",
    "\n",
    "column_names = ['sepal-length', 'sepal-width', 'petal-length', 'petal-width', 'type']\n",
    "df = pd.read_csv(url, names = column_names) #read CSV into Python as a dataframe\n",
    "\n",
    "#Choosing the variables. \n",
    "X = df.drop(columns=['sepal-length']) #indpendent variables\n",
    "y = df[['sepal-length']].copy() #dependent variables"
   ]
  },
  {
   "attachments": {},
   "cell_type": "markdown",
   "metadata": {},
   "source": [
    "Supervised methods tend to perform well (or too well) when tested on their training data, but you want your model to perform well on *unseen* data. So while it's not required, separating data used to train and test the model (validation) is good practice. Furthermore, it provides content for part D. \n",
    "\n",
    "As with the previous example [previous example](sup_class_ex:develop)), we'll use [scikit-learn aka sklearn](https://scikit-learn.org/stable/modules/generated/sklearn.model_selection.train_test_split.html) built-ins for this."
   ]
  },
  {
   "cell_type": "code",
   "execution_count": 2,
   "metadata": {},
   "outputs": [],
   "source": [
    "import numpy as np\n",
    "from sklearn.model_selection import train_test_split\n",
    "\n",
    "#split the variable sets into training and testing subsets\n",
    "X_train, X_test, y_train, y_test = train_test_split(X, y, test_size=0.333, random_state=41)"
   ]
  },
  {
   "cell_type": "code",
   "execution_count": 3,
   "metadata": {},
   "outputs": [
    {
     "data": {
      "text/html": [
       "<style type=\"text/css\">\n",
       "</style>\n",
       "<table id=\"T_ccb73\" style='display:inline'>\n",
       "  <caption>Independents variables</caption>\n",
       "  <thead>\n",
       "    <tr>\n",
       "      <th class=\"blank level0\" >&nbsp;</th>\n",
       "      <th id=\"T_ccb73_level0_col0\" class=\"col_heading level0 col0\" >sepal-width</th>\n",
       "      <th id=\"T_ccb73_level0_col1\" class=\"col_heading level0 col1\" >petal-length</th>\n",
       "      <th id=\"T_ccb73_level0_col2\" class=\"col_heading level0 col2\" >petal-width</th>\n",
       "      <th id=\"T_ccb73_level0_col3\" class=\"col_heading level0 col3\" >type</th>\n",
       "    </tr>\n",
       "  </thead>\n",
       "  <tbody>\n",
       "    <tr>\n",
       "      <th id=\"T_ccb73_level0_row0\" class=\"row_heading level0 row0\" >111</th>\n",
       "      <td id=\"T_ccb73_row0_col0\" class=\"data row0 col0\" >2.700000</td>\n",
       "      <td id=\"T_ccb73_row0_col1\" class=\"data row0 col1\" >5.300000</td>\n",
       "      <td id=\"T_ccb73_row0_col2\" class=\"data row0 col2\" >1.900000</td>\n",
       "      <td id=\"T_ccb73_row0_col3\" class=\"data row0 col3\" >Iris-virginica</td>\n",
       "    </tr>\n",
       "    <tr>\n",
       "      <th id=\"T_ccb73_level0_row1\" class=\"row_heading level0 row1\" >82</th>\n",
       "      <td id=\"T_ccb73_row1_col0\" class=\"data row1 col0\" >2.700000</td>\n",
       "      <td id=\"T_ccb73_row1_col1\" class=\"data row1 col1\" >3.900000</td>\n",
       "      <td id=\"T_ccb73_row1_col2\" class=\"data row1 col2\" >1.200000</td>\n",
       "      <td id=\"T_ccb73_row1_col3\" class=\"data row1 col3\" >Iris-versicolor</td>\n",
       "    </tr>\n",
       "    <tr>\n",
       "      <th id=\"T_ccb73_level0_row2\" class=\"row_heading level0 row2\" >130</th>\n",
       "      <td id=\"T_ccb73_row2_col0\" class=\"data row2 col0\" >2.800000</td>\n",
       "      <td id=\"T_ccb73_row2_col1\" class=\"data row2 col1\" >6.100000</td>\n",
       "      <td id=\"T_ccb73_row2_col2\" class=\"data row2 col2\" >1.900000</td>\n",
       "      <td id=\"T_ccb73_row2_col3\" class=\"data row2 col3\" >Iris-virginica</td>\n",
       "    </tr>\n",
       "    <tr>\n",
       "      <th id=\"T_ccb73_level0_row3\" class=\"row_heading level0 row3\" >27</th>\n",
       "      <td id=\"T_ccb73_row3_col0\" class=\"data row3 col0\" >3.500000</td>\n",
       "      <td id=\"T_ccb73_row3_col1\" class=\"data row3 col1\" >1.500000</td>\n",
       "      <td id=\"T_ccb73_row3_col2\" class=\"data row3 col2\" >0.200000</td>\n",
       "      <td id=\"T_ccb73_row3_col3\" class=\"data row3 col3\" >Iris-setosa</td>\n",
       "    </tr>\n",
       "    <tr>\n",
       "      <th id=\"T_ccb73_level0_row4\" class=\"row_heading level0 row4\" >33</th>\n",
       "      <td id=\"T_ccb73_row4_col0\" class=\"data row4 col0\" >4.200000</td>\n",
       "      <td id=\"T_ccb73_row4_col1\" class=\"data row4 col1\" >1.400000</td>\n",
       "      <td id=\"T_ccb73_row4_col2\" class=\"data row4 col2\" >0.200000</td>\n",
       "      <td id=\"T_ccb73_row4_col3\" class=\"data row4 col3\" >Iris-setosa</td>\n",
       "    </tr>\n",
       "  </tbody>\n",
       "</table>\n",
       "          <style type=\"text/css\">\n",
       "</style>\n",
       "<table id=\"T_1f512\" style='display:inline'>\n",
       "  <caption>Dependents variables</caption>\n",
       "  <thead>\n",
       "    <tr>\n",
       "      <th class=\"blank level0\" >&nbsp;</th>\n",
       "      <th id=\"T_1f512_level0_col0\" class=\"col_heading level0 col0\" >sepal-length</th>\n",
       "    </tr>\n",
       "  </thead>\n",
       "  <tbody>\n",
       "    <tr>\n",
       "      <th id=\"T_1f512_level0_row0\" class=\"row_heading level0 row0\" >111</th>\n",
       "      <td id=\"T_1f512_row0_col0\" class=\"data row0 col0\" >6.400000</td>\n",
       "    </tr>\n",
       "    <tr>\n",
       "      <th id=\"T_1f512_level0_row1\" class=\"row_heading level0 row1\" >82</th>\n",
       "      <td id=\"T_1f512_row1_col0\" class=\"data row1 col0\" >5.800000</td>\n",
       "    </tr>\n",
       "    <tr>\n",
       "      <th id=\"T_1f512_level0_row2\" class=\"row_heading level0 row2\" >130</th>\n",
       "      <td id=\"T_1f512_row2_col0\" class=\"data row2 col0\" >7.400000</td>\n",
       "    </tr>\n",
       "    <tr>\n",
       "      <th id=\"T_1f512_level0_row3\" class=\"row_heading level0 row3\" >27</th>\n",
       "      <td id=\"T_1f512_row3_col0\" class=\"data row3 col0\" >5.200000</td>\n",
       "    </tr>\n",
       "    <tr>\n",
       "      <th id=\"T_1f512_level0_row4\" class=\"row_heading level0 row4\" >33</th>\n",
       "      <td id=\"T_1f512_row4_col0\" class=\"data row4 col0\" >5.500000</td>\n",
       "    </tr>\n",
       "  </tbody>\n",
       "</table>\n"
      ]
     },
     "metadata": {},
     "output_type": "display_data"
    }
   ],
   "source": [
    "#Nice displays are nice but not required. \n",
    "from IPython.display import display_html \n",
    "X_train_styler = X_train.head(5).style.set_table_attributes(\"style='display:inline'\").set_caption('Independents variables')\n",
    "y_train_styler = y_train.head(5).style.set_table_attributes(\"style='display:inline'\").set_caption('Dependents variables')\n",
    "space = \"\\xa0\" * 10 #space between columns\n",
    "display_html(X_train_styler._repr_html_()+ space  + y_train_styler._repr_html_(), raw=True)"
   ]
  },
  {
   "attachments": {},
   "cell_type": "markdown",
   "metadata": {},
   "source": [
    "we'll stick with sklearn has a deep [supervised learning library](https://scikit-learn.org/stable/supervised_learning.html). Note that many of these models have both classification and regression extensions. "
   ]
  }
 ],
 "metadata": {
  "kernelspec": {
   "display_name": "Python 3",
   "language": "python",
   "name": "python3"
  },
  "language_info": {
   "codemirror_mode": {
    "name": "ipython",
    "version": 3
   },
   "file_extension": ".py",
   "mimetype": "text/x-python",
   "name": "python",
   "nbconvert_exporter": "python",
   "pygments_lexer": "ipython3",
   "version": "3.11.1"
  },
  "vscode": {
   "interpreter": {
    "hash": "b01ad35900d66bc300bdd544ac169381f70c93385687916b7afa683daff896cf"
   }
  }
 },
 "nbformat": 4,
 "nbformat_minor": 2
}