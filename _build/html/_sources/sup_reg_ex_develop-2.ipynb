{
 "cells": [
  {
   "cell_type": "code",
   "execution_count": 98,
   "metadata": {},
   "outputs": [],
   "source": [
    "#Note: we only repeat this step from before, because this is a new .ipyb page.\n",
    "#   it only needs to be executed once per file.\n",
    "\n",
    "#We'll import libraries as needed, but when submitting, having them all at the top is best practice\n",
    "import pandas as pd\n",
    "\n",
    "# Reloading the dataset\n",
    "url = \"https://raw.githubusercontent.com/jbrownlee/Datasets/master/iris.csv\"\n",
    "df = pd.read_csv(url) #read CSV into Python as a dataframe\n",
    "\n",
    "column_names = ['sepal-length', 'sepal-width', 'petal-length', 'petal-width', 'type']\n",
    "df = pd.read_csv(url, names = column_names) #read CSV into Python as a dataframe\n",
    "\n",
    "#Choosing sepal-length as the independent variable. \n",
    "X = df.drop(columns=['sepal-length']) #indpendent variables\n",
    "y = df[['sepal-length']].copy() #dependent variables"
   ]
  },
  {
   "attachments": {},
   "cell_type": "markdown",
   "metadata": {},
   "source": [
    "In [LINK GOES HERE] the previous section, we avoid using categorical data by simplifying and removing it. While this sped things along, it also dropped potentially valuable insight from our analysis. Now that code is working, we'll go and rebuild out models using that categorical data, the 'type' feature."
   ]
  },
  {
   "cell_type": "code",
   "execution_count": 38,
   "metadata": {},
   "outputs": [
    {
     "data": {
      "text/plain": [
       "0         Iris-setosa\n",
       "1         Iris-setosa\n",
       "2         Iris-setosa\n",
       "3         Iris-setosa\n",
       "4         Iris-setosa\n",
       "            ...      \n",
       "145    Iris-virginica\n",
       "146    Iris-virginica\n",
       "147    Iris-virginica\n",
       "148    Iris-virginica\n",
       "149    Iris-virginica\n",
       "Name: type, Length: 150, dtype: object"
      ]
     },
     "execution_count": 38,
     "metadata": {},
     "output_type": "execute_result"
    }
   ],
   "source": [
    "df['type']"
   ]
  },
  {
   "cell_type": "code",
   "execution_count": null,
   "metadata": {},
   "outputs": [],
   "source": []
  },
  {
   "attachments": {},
   "cell_type": "markdown",
   "metadata": {},
   "source": [
    "We have three unique flower types, equally distributed, in this feature:"
   ]
  },
  {
   "cell_type": "code",
   "execution_count": 99,
   "metadata": {},
   "outputs": [
    {
     "data": {
      "image/png": "[encoded data removed]",
      "text/plain": [
       "<Figure size 640x480 with 1 Axes>"
      ]
     },
     "metadata": {},
     "output_type": "display_data"
    }
   ],
   "source": [
    "df.groupby('type').size()\n",
    "df.groupby('type').size().plot(kind='pie');\n"
   ]
  },
  {
   "attachments": {},
   "cell_type": "markdown",
   "metadata": {},
   "source": [
    "Recall, a coding error [LINK HERE] was returned because the"
   ]
  },
  {
   "cell_type": "code",
   "execution_count": null,
   "metadata": {},
   "outputs": [],
   "source": []
  },
  {
   "attachments": {},
   "cell_type": "markdown",
   "metadata": {},
   "source": [
    "Most machine learning models can only interpret numerical data. Thus *feature encoding*, processing data into numerical form, is an essential data analytical skill. To do this properly you should understand your data before preceding. For example, we could simply re-label the types as follows:\n",
    "$$ \n",
    "\\text{Iris-setosa} \\rightarrow 1 \\\\\n",
    "\\text{Iris-versicolor} \\rightarrow 2 \\\\\n",
    "\\text{Iris-virginica} \\rightarrow 3 \\\\\n",
    "$$   \n",
    "and hand this off to the algorithm. But while this would fix the coding error, any numerical interpretation of this re-labeling would be meaningless, e.g., 'Iris-setosa' is not twice as much as 'Iris-versicolor,' nor should one type be ranked over the other. \n",
    "\n",
    "A flower either is an 'Iris-setosa' OR it isn't. Each type is similarly binary so we can interpret *each unique type as a unique feature*, with 1 or 0 indicating whether the category applies or not, respectively. Here is one way to do this:"
   ]
  },
  {
   "cell_type": "code",
   "execution_count": 129,
   "metadata": {},
   "outputs": [
    {
     "data": {
      "text/html": [
       "<style type=\"text/css\">\n",
       "</style>\n",
       "<table id=\"T_98f1e\" style='display:inline'>\n",
       "  <caption>Before</caption>\n",
       "  <thead>\n",
       "    <tr>\n",
       "      <th class=\"blank level0\" >&nbsp;</th>\n",
       "      <th id=\"T_98f1e_level0_col0\" class=\"col_heading level0 col0\" >type</th>\n",
       "    </tr>\n",
       "  </thead>\n",
       "  <tbody>\n",
       "    <tr>\n",
       "      <th id=\"T_98f1e_level0_row0\" class=\"row_heading level0 row0\" >87</th>\n",
       "      <td id=\"T_98f1e_row0_col0\" class=\"data row0 col0\" >Iris-versicolor</td>\n",
       "    </tr>\n",
       "    <tr>\n",
       "      <th id=\"T_98f1e_level0_row1\" class=\"row_heading level0 row1\" >111</th>\n",
       "      <td id=\"T_98f1e_row1_col0\" class=\"data row1 col0\" >Iris-virginica</td>\n",
       "    </tr>\n",
       "    <tr>\n",
       "      <th id=\"T_98f1e_level0_row2\" class=\"row_heading level0 row2\" >10</th>\n",
       "      <td id=\"T_98f1e_row2_col0\" class=\"data row2 col0\" >Iris-setosa</td>\n",
       "    </tr>\n",
       "    <tr>\n",
       "      <th id=\"T_98f1e_level0_row3\" class=\"row_heading level0 row3\" >91</th>\n",
       "      <td id=\"T_98f1e_row3_col0\" class=\"data row3 col0\" >Iris-versicolor</td>\n",
       "    </tr>\n",
       "    <tr>\n",
       "      <th id=\"T_98f1e_level0_row4\" class=\"row_heading level0 row4\" >49</th>\n",
       "      <td id=\"T_98f1e_row4_col0\" class=\"data row4 col0\" >Iris-setosa</td>\n",
       "    </tr>\n",
       "  </tbody>\n",
       "</table>\n",
       "\n",
       " <table>\n",
       "  <tr>\n",
       "    <td>Emil</td>\n",
       "    <td>Tobias</td>\n",
       "    <td>Linus</td>\n",
       "  </tr>\n",
       "  <tr>\n",
       "    <td>16</td>\n",
       "    <td>14</td>\n",
       "    <td>10</td>\n",
       "  </tr>\n",
       "</table> \n",
       "<style type=\"text/css\">\n",
       "</style>\n",
       "<table id=\"T_5a8d1\" style='display:inline'>\n",
       "  <caption>After vectorization</caption>\n",
       "  <thead>\n",
       "    <tr>\n",
       "      <th class=\"blank level0\" >&nbsp;</th>\n",
       "      <th id=\"T_5a8d1_level0_col0\" class=\"col_heading level0 col0\" >type_Iris-setosa</th>\n",
       "      <th id=\"T_5a8d1_level0_col1\" class=\"col_heading level0 col1\" >type_Iris-versicolor</th>\n",
       "      <th id=\"T_5a8d1_level0_col2\" class=\"col_heading level0 col2\" >type_Iris-virginica</th>\n",
       "    </tr>\n",
       "  </thead>\n",
       "  <tbody>\n",
       "    <tr>\n",
       "      <th id=\"T_5a8d1_level0_row0\" class=\"row_heading level0 row0\" >87</th>\n",
       "      <td id=\"T_5a8d1_row0_col0\" class=\"data row0 col0\" >0</td>\n",
       "      <td id=\"T_5a8d1_row0_col1\" class=\"data row0 col1\" >1</td>\n",
       "      <td id=\"T_5a8d1_row0_col2\" class=\"data row0 col2\" >0</td>\n",
       "    </tr>\n",
       "    <tr>\n",
       "      <th id=\"T_5a8d1_level0_row1\" class=\"row_heading level0 row1\" >111</th>\n",
       "      <td id=\"T_5a8d1_row1_col0\" class=\"data row1 col0\" >0</td>\n",
       "      <td id=\"T_5a8d1_row1_col1\" class=\"data row1 col1\" >0</td>\n",
       "      <td id=\"T_5a8d1_row1_col2\" class=\"data row1 col2\" >1</td>\n",
       "    </tr>\n",
       "    <tr>\n",
       "      <th id=\"T_5a8d1_level0_row2\" class=\"row_heading level0 row2\" >10</th>\n",
       "      <td id=\"T_5a8d1_row2_col0\" class=\"data row2 col0\" >1</td>\n",
       "      <td id=\"T_5a8d1_row2_col1\" class=\"data row2 col1\" >0</td>\n",
       "      <td id=\"T_5a8d1_row2_col2\" class=\"data row2 col2\" >0</td>\n",
       "    </tr>\n",
       "    <tr>\n",
       "      <th id=\"T_5a8d1_level0_row3\" class=\"row_heading level0 row3\" >91</th>\n",
       "      <td id=\"T_5a8d1_row3_col0\" class=\"data row3 col0\" >0</td>\n",
       "      <td id=\"T_5a8d1_row3_col1\" class=\"data row3 col1\" >1</td>\n",
       "      <td id=\"T_5a8d1_row3_col2\" class=\"data row3 col2\" >0</td>\n",
       "    </tr>\n",
       "    <tr>\n",
       "      <th id=\"T_5a8d1_level0_row4\" class=\"row_heading level0 row4\" >49</th>\n",
       "      <td id=\"T_5a8d1_row4_col0\" class=\"data row4 col0\" >1</td>\n",
       "      <td id=\"T_5a8d1_row4_col1\" class=\"data row4 col1\" >0</td>\n",
       "      <td id=\"T_5a8d1_row4_col2\" class=\"data row4 col2\" >0</td>\n",
       "    </tr>\n",
       "  </tbody>\n",
       "</table>\n"
      ]
     },
     "metadata": {},
     "output_type": "display_data"
    }
   ],
   "source": [
    "before_dummy = df.sample(n=100, random_state = 10)\n",
    "before_dummy = before_dummy.iloc[:,4:]\n",
    "after_dummy = pd.get_dummies(before_dummy)\n",
    "# df2\n",
    "# X_sample.loc[:,['type']]\n",
    "# X_sample.iloc[ : , 4:]\n",
    "# df2.iloc[ : , 4:]\n",
    "\n",
    "#Nice displays are nice but not required. \n",
    "from IPython.display import display_html \n",
    "before_styler = before_dummy.head().style.set_table_attributes(\"style='display:inline'\").set_caption('Before')\n",
    "after_styler = after_dummy.head().style.set_table_attributes(\"style='display:inline'\").set_caption('After vectorization')\n",
    "space = \"\\xa0\" * 10 #space between columns\n",
    "arrow = \"<html> &#x21e8; </html>\"\n",
    "\n",
    "arrow = '''\n",
    " <table>\n",
    "  <tr>\n",
    "    <td>Emil</td>\n",
    "    <td>Tobias</td>\n",
    "    <td>Linus</td>\n",
    "  </tr>\n",
    "  <tr>\n",
    "    <td>16</td>\n",
    "    <td>14</td>\n",
    "    <td>10</td>\n",
    "  </tr>\n",
    "</table> \n",
    "'''\n",
    "\n",
    "display_html(before_styler._repr_html_() + arrow + after_styler._repr_html_(), raw=True)"
   ]
  },
  {
   "cell_type": "code",
   "execution_count": 101,
   "metadata": {},
   "outputs": [],
   "source": [
    "# from sklearn.preprocessing import OneHotEncoder\n",
    "\n",
    "#Instantiate OneHotEncoder (ohe). \n",
    "#Note Pandas get_dummies can also perform this function, but ohe has some ML application advantages.\n",
    "\n",
    "ohe = OneHotEncoder(sparse = False) "
   ]
  }
 ],
 "metadata": {
  "kernelspec": {
   "display_name": "jupyter-books-WZpnkDri",
   "language": "python",
   "name": "jupyter-books-wzpnkdri"
  },
  "language_info": {
   "codemirror_mode": {
    "name": "ipython",
    "version": 3
   },
   "file_extension": ".py",
   "mimetype": "text/x-python",
   "name": "python",
   "nbconvert_exporter": "python",
   "pygments_lexer": "ipython3",
   "version": "3.11.1"
  },
  "orig_nbformat": 4
 },
 "nbformat": 4,
 "nbformat_minor": 2
}
